{
  "metadata": {
    "toc-autonumbering": false,
    "language_info": {
      "codemirror_mode": {
        "name": "python",
        "version": 3
      },
      "file_extension": ".py",
      "mimetype": "text/x-python",
      "name": "python",
      "nbconvert_exporter": "python",
      "pygments_lexer": "ipython3",
      "version": "3.8"
    },
    "kernelspec": {
      "name": "python",
      "display_name": "Python (Pyodide)",
      "language": "python"
    }
  },
  "nbformat_minor": 4,
  "nbformat": 4,
  "cells": [
    {
      "cell_type": "markdown",
      "source": "## Q1 def kewyword is used to create a function",
      "metadata": {}
    },
    {
      "cell_type": "code",
      "source": "a=list(range(1,26))",
      "metadata": {
        "trusted": true
      },
      "execution_count": 1,
      "outputs": []
    },
    {
      "cell_type": "code",
      "source": "a",
      "metadata": {
        "trusted": true
      },
      "execution_count": 2,
      "outputs": [
        {
          "execution_count": 2,
          "output_type": "execute_result",
          "data": {
            "text/plain": "[1,\n 2,\n 3,\n 4,\n 5,\n 6,\n 7,\n 8,\n 9,\n 10,\n 11,\n 12,\n 13,\n 14,\n 15,\n 16,\n 17,\n 18,\n 19,\n 20,\n 21,\n 22,\n 23,\n 24,\n 25]"
          },
          "metadata": {}
        }
      ]
    },
    {
      "cell_type": "code",
      "source": "h=[]\ndef test(x):\n    for i in x:\n        if i%2!=0:\n            h.append(i)\n    yield h\n    ",
      "metadata": {
        "trusted": true
      },
      "execution_count": 3,
      "outputs": []
    },
    {
      "cell_type": "code",
      "source": "for i in test(a):\n    print (i)",
      "metadata": {
        "trusted": true
      },
      "execution_count": 4,
      "outputs": [
        {
          "name": "stdout",
          "text": "[1, 3, 5, 7, 9, 11, 13, 15, 17, 19, 21, 23, 25]\n",
          "output_type": "stream"
        }
      ]
    },
    {
      "cell_type": "code",
      "source": "list(filter(lambda x:x%2!=0,a))",
      "metadata": {
        "trusted": true
      },
      "execution_count": 5,
      "outputs": [
        {
          "execution_count": 5,
          "output_type": "execute_result",
          "data": {
            "text/plain": "[1, 3, 5, 7, 9, 11, 13, 15, 17, 19, 21, 23, 25]"
          },
          "metadata": {}
        }
      ]
    },
    {
      "cell_type": "code",
      "source": "q=[]\ndef shiva(c):\n    for j in range(c):\n        if j%2!=0:\n            q.append(j)\n    yield q",
      "metadata": {
        "trusted": true
      },
      "execution_count": 6,
      "outputs": []
    },
    {
      "cell_type": "code",
      "source": "for i in shiva(25):\n    print (i)\n",
      "metadata": {
        "trusted": true
      },
      "execution_count": 7,
      "outputs": [
        {
          "name": "stdout",
          "text": "[1, 3, 5, 7, 9, 11, 13, 15, 17, 19, 21, 23]\n",
          "output_type": "stream"
        }
      ]
    },
    {
      "cell_type": "code",
      "source": "",
      "metadata": {},
      "execution_count": null,
      "outputs": []
    },
    {
      "cell_type": "markdown",
      "source": "## Q2 *arg is used to assign multiple input in function & **kwarg to return value in dictionary form",
      "metadata": {}
    },
    {
      "cell_type": "code",
      "source": "def me(*arg):\n    x=[]\n    for i in arg:\n        if type(i)==float:\n            x.append(i)\n    return x",
      "metadata": {
        "trusted": true
      },
      "execution_count": 8,
      "outputs": []
    },
    {
      "cell_type": "code",
      "source": "me(2,5,2.3,63.9,2.3,11.2,0.3)",
      "metadata": {
        "trusted": true
      },
      "execution_count": 9,
      "outputs": [
        {
          "execution_count": 9,
          "output_type": "execute_result",
          "data": {
            "text/plain": "[2.3, 63.9, 2.3, 11.2, 0.3]"
          },
          "metadata": {}
        }
      ]
    },
    {
      "cell_type": "code",
      "source": "def cg(**kwarg):\n    return kwarg",
      "metadata": {
        "trusted": true
      },
      "execution_count": 10,
      "outputs": []
    },
    {
      "cell_type": "code",
      "source": "cg(a=1,b=2,c=3,d=25)",
      "metadata": {
        "trusted": true
      },
      "execution_count": 11,
      "outputs": [
        {
          "execution_count": 11,
          "output_type": "execute_result",
          "data": {
            "text/plain": "{'a': 1, 'b': 2, 'c': 3, 'd': 25}"
          },
          "metadata": {}
        }
      ]
    },
    {
      "cell_type": "markdown",
      "source": "## Q3 itrators are type of variable that store a multiple data in one variable. we use for loop to go through various element in itrables and .append to intilise",
      "metadata": {}
    },
    {
      "cell_type": "code",
      "source": "l=[2,4,6,8,10,12,14,16,20]\nl[0:5:]",
      "metadata": {
        "trusted": true
      },
      "execution_count": 12,
      "outputs": [
        {
          "execution_count": 12,
          "output_type": "execute_result",
          "data": {
            "text/plain": "[2, 4, 6, 8, 10]"
          },
          "metadata": {}
        }
      ]
    },
    {
      "cell_type": "markdown",
      "source": "## Q4 generator functions are like machine where we assign any method and it give us output as per variable given , it dosen't store data.yield keword is used in generator function a return keyword.\n",
      "metadata": {}
    },
    {
      "cell_type": "code",
      "source": "def no(k):\n    a,b=0,1\n    for i in range(k):\n        yield a\n        a,b=b,a+b\n    ",
      "metadata": {
        "trusted": true
      },
      "execution_count": 13,
      "outputs": []
    },
    {
      "cell_type": "code",
      "source": "for i in no(25):\n    print (i)",
      "metadata": {
        "trusted": true
      },
      "execution_count": 14,
      "outputs": [
        {
          "name": "stdout",
          "text": "0\n1\n1\n2\n3\n5\n8\n13\n21\n34\n55\n89\n144\n233\n377\n610\n987\n1597\n2584\n4181\n6765\n10946\n17711\n28657\n46368\n",
          "output_type": "stream"
        }
      ]
    },
    {
      "cell_type": "code",
      "source": "def pr():\n    j,i=2,1\n    while (i<=1000):\n        while (j<i):\n            if i%j==0:\n                yield i\n        ",
      "metadata": {
        "trusted": true
      },
      "execution_count": 15,
      "outputs": []
    },
    {
      "cell_type": "code",
      "source": "d=pr()",
      "metadata": {
        "trusted": true
      },
      "execution_count": 16,
      "outputs": []
    },
    {
      "cell_type": "code",
      "source": "for k in range(20):\n    print(next(d))",
      "metadata": {
        "trusted": true
      },
      "execution_count": null,
      "outputs": []
    },
    {
      "cell_type": "code",
      "source": "",
      "metadata": {},
      "execution_count": null,
      "outputs": []
    },
    {
      "cell_type": "markdown",
      "source": "## Q6",
      "metadata": {}
    },
    {
      "cell_type": "code",
      "source": "def fib():\n    a,b=0,1\n    while True:\n        yield a\n        a,b=b,a+b\n        \n        ",
      "metadata": {
        "trusted": true
      },
      "execution_count": null,
      "outputs": []
    },
    {
      "cell_type": "code",
      "source": "c=fib()",
      "metadata": {
        "trusted": true
      },
      "execution_count": null,
      "outputs": []
    },
    {
      "cell_type": "code",
      "source": "for i in range(10):\n    print (next(c))",
      "metadata": {
        "trusted": true
      },
      "execution_count": null,
      "outputs": []
    },
    {
      "cell_type": "markdown",
      "source": "## Q7",
      "metadata": {}
    },
    {
      "cell_type": "code",
      "source": "s=\"pwskills\"\nl=[]\nfor i in range(len(s)):\n    l.append (s[i])\n",
      "metadata": {
        "trusted": true
      },
      "execution_count": null,
      "outputs": []
    },
    {
      "cell_type": "code",
      "source": "l",
      "metadata": {
        "trusted": true
      },
      "execution_count": null,
      "outputs": []
    },
    {
      "cell_type": "markdown",
      "source": "## Q8",
      "metadata": {}
    },
    {
      "cell_type": "code",
      "source": "def nu(n):\n    pa=0\n    b=n\n    while(n>=0):\n        c=n%10\n        pa=pa*10+c\n        n=n/10\n        if (b==pa):\n            print(\"palindrome\")\n        ",
      "metadata": {
        "trusted": true
      },
      "execution_count": null,
      "outputs": []
    },
    {
      "cell_type": "code",
      "source": "nu(121)",
      "metadata": {
        "trusted": true
      },
      "execution_count": null,
      "outputs": []
    },
    {
      "cell_type": "markdown",
      "source": "## Q9",
      "metadata": {}
    },
    {
      "cell_type": "code",
      "source": "l=list(range(1,100))",
      "metadata": {
        "trusted": true
      },
      "execution_count": null,
      "outputs": []
    },
    {
      "cell_type": "code",
      "source": "m=list(filter(lambda a:a%2!=0,l))",
      "metadata": {
        "trusted": true
      },
      "execution_count": null,
      "outputs": []
    },
    {
      "cell_type": "code",
      "source": "",
      "metadata": {},
      "execution_count": null,
      "outputs": []
    }
  ]
}